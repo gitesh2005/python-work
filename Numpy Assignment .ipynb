{
 "cells": [
  {
   "cell_type": "code",
   "execution_count": 55,
   "id": "e57d87e0-ae06-46ff-aedb-b5c272e6acda",
   "metadata": {},
   "outputs": [],
   "source": [
    "import numpy as np"
   ]
  },
  {
   "cell_type": "code",
   "execution_count": 56,
   "id": "273c6fd2-d77c-4812-8a98-279480677200",
   "metadata": {},
   "outputs": [
    {
     "name": "stdout",
     "output_type": "stream",
     "text": [
      "[0 1 2 3 4 5]\n",
      "<class 'numpy.ndarray'>\n"
     ]
    }
   ],
   "source": [
    "# Q1\n",
    "\n",
    "a = np.array([0,1,2,3,4,5])\n",
    "print(a)\n",
    "print(type(a))"
   ]
  },
  {
   "cell_type": "code",
   "execution_count": 57,
   "id": "ef22ed01-bb0b-4a1f-b232-44fada0e9bda",
   "metadata": {},
   "outputs": [
    {
     "name": "stdout",
     "output_type": "stream",
     "text": [
      "yes\n"
     ]
    }
   ],
   "source": [
    "# Q2\n",
    "\n",
    "arr = np.array([2.4,5.6])\n",
    "\n",
    "if arr.dtype == np.float64:\n",
    "    print(\"yes\")\n",
    "\n",
    "else:\n",
    "    print(\"no\")\n"
   ]
  },
  {
   "cell_type": "code",
   "execution_count": 58,
   "id": "5a338de9-5f51-48d0-9a64-8de57a996f4d",
   "metadata": {},
   "outputs": [
    {
     "data": {
      "text/plain": [
       "array([1.+2.j, 3.+6.j])"
      ]
     },
     "execution_count": 58,
     "metadata": {},
     "output_type": "execute_result"
    }
   ],
   "source": [
    "# Q3\n",
    "\n",
    "complexx = np.array([1+2j, 3+6j],dtype=np.complex128)\n",
    "complexx"
   ]
  },
  {
   "cell_type": "code",
   "execution_count": 59,
   "id": "bef4ad97-fe0d-4c35-ba8f-f6e72bb5d8e6",
   "metadata": {},
   "outputs": [
    {
     "name": "stdout",
     "output_type": "stream",
     "text": [
      "float64\n"
     ]
    }
   ],
   "source": [
    "# Q4\n",
    "\n",
    "\n",
    "arra = np.array([1,2,3],dtype=int)\n",
    "arra\n",
    "\n",
    "float_array = arra.astype(float)\n",
    "print(float_array.dtype)"
   ]
  },
  {
   "cell_type": "code",
   "execution_count": 60,
   "id": "35e11d92-83fd-4f03-a499-81ac533d5307",
   "metadata": {},
   "outputs": [
    {
     "name": "stdout",
     "output_type": "stream",
     "text": [
      "float32\n"
     ]
    }
   ],
   "source": [
    "# Q5\n",
    "\n",
    "array = np.array([1.2,3.4],dtype=np.float64)\n",
    "\n",
    "convert = array.astype(np.float32)\n",
    "print(convert.dtype)\n",
    "\n"
   ]
  },
  {
   "cell_type": "code",
   "execution_count": 61,
   "id": "9cd12004-e5d4-4faa-80b8-da80ad73b8de",
   "metadata": {},
   "outputs": [
    {
     "name": "stdout",
     "output_type": "stream",
     "text": [
      "shape: (2, 2)\n",
      "size: 4\n",
      "datatype: int32\n"
     ]
    }
   ],
   "source": [
    "#Q 6\n",
    "\n",
    "def array_attributes(array):\n",
    "    shape = array.shape\n",
    "    size = array.size\n",
    "    datatype = array.dtype\n",
    "    return shape , size , datatype\n",
    "\n",
    "\n",
    "array = np.array([[1,2],[4,5]])\n",
    "shape , size , datatype  = array_attributes(array)\n",
    "\n",
    "print(\"shape:\",shape)\n",
    "print(\"size:\" , size)\n",
    "print(\"datatype:\",datatype)"
   ]
  },
  {
   "cell_type": "code",
   "execution_count": 62,
   "id": "38f3cf7d-e572-4e96-9f21-6471e6767cce",
   "metadata": {},
   "outputs": [
    {
     "name": "stdout",
     "output_type": "stream",
     "text": [
      "dimension: 1\n"
     ]
    }
   ],
   "source": [
    "# Q 7\n",
    "\n",
    "def array_dimension(array):\n",
    "    dimension = array.ndim\n",
    "    return dimension\n",
    "\n",
    "\n",
    "array = np.array([2,4,7])\n",
    "dimension = array_dimension(array)\n",
    "print(\"dimension:\",dimension)"
   ]
  },
  {
   "cell_type": "code",
   "execution_count": 63,
   "id": "70c787d6-f8ea-4609-950f-fb5236139dc6",
   "metadata": {},
   "outputs": [
    {
     "name": "stdout",
     "output_type": "stream",
     "text": [
      "Item size (bytes): 4\n",
      "Total size (bytes): 16\n"
     ]
    }
   ],
   "source": [
    "# Q 8\n",
    "\n",
    "import numpy as np\n",
    "\n",
    "def item_size_info(array):\n",
    "    item_size = array.itemsize    \n",
    "    total_size = array.nbytes     \n",
    "    return item_size, total_size\n",
    "\n",
    "arr = np.array([[10, 20], [30, 40]], dtype=np.int32)\n",
    "\n",
    "item_size, total_size = item_size_info(arr)\n",
    "\n",
    "print(\"Item size (bytes):\", item_size)\n",
    "print(\"Total size (bytes):\", total_size)\n"
   ]
  },
  {
   "cell_type": "code",
   "execution_count": 64,
   "id": "78f4ac3a-6d8e-4c6d-8454-cb9d08b64901",
   "metadata": {},
   "outputs": [],
   "source": [
    "import numpy as np"
   ]
  },
  {
   "cell_type": "code",
   "execution_count": 65,
   "id": "55e073aa-6577-4ef0-b94f-53108a4b063c",
   "metadata": {},
   "outputs": [
    {
     "name": "stdout",
     "output_type": "stream",
     "text": [
      "(8, 4)\n"
     ]
    }
   ],
   "source": [
    "# Q 9\n",
    "\n",
    "def array_strides(array):\n",
    "    return array.strides\n",
    "\n",
    "array = np.array([[1,2],[4,5]])\n",
    "print(array_strides(array))"
   ]
  },
  {
   "cell_type": "code",
   "execution_count": 66,
   "id": "1dce5699-f0a8-45f7-a19a-a0be5f84e2ce",
   "metadata": {},
   "outputs": [
    {
     "name": "stdout",
     "output_type": "stream",
     "text": [
      "((2, 2), (8, 4))\n"
     ]
    }
   ],
   "source": [
    "# 10\n",
    "def shape_strides_relationship(array):\n",
    "    shape = array.shape\n",
    "    strides =  array.strides\n",
    "    return shape , strides\n",
    "\n",
    "array = np.array([[1,2],[3,4]])\n",
    "print(shape_strides_relationship(array))\n",
    "    "
   ]
  },
  {
   "cell_type": "markdown",
   "id": "4eaf204f-adfa-4c59-b995-c9f9d3ba7e6e",
   "metadata": {},
   "source": [
    "# Array Creation"
   ]
  },
  {
   "cell_type": "code",
   "execution_count": 67,
   "id": "324f5de4-9c8a-44ee-ba5d-4e58a088b735",
   "metadata": {},
   "outputs": [
    {
     "name": "stdout",
     "output_type": "stream",
     "text": [
      "[[0. 0. 0. 0. 0. 0.]\n",
      " [0. 0. 0. 0. 0. 0.]]\n"
     ]
    }
   ],
   "source": [
    "# Q 11\n",
    "\n",
    "def create_zeros_array(n):\n",
    "    zero = np.zeros(n)\n",
    "    return zero\n",
    "n = (2,6)\n",
    "print(create_zeros_array(n))"
   ]
  },
  {
   "cell_type": "code",
   "execution_count": 68,
   "id": "4341510b-a61b-441c-997d-e61daaef8a0a",
   "metadata": {},
   "outputs": [
    {
     "name": "stdout",
     "output_type": "stream",
     "text": [
      "[[1. 1. 1.]\n",
      " [1. 1. 1.]]\n"
     ]
    }
   ],
   "source": [
    "# Q 12\n",
    "\n",
    "def create_ones_matrix(num):\n",
    "    ones = np.ones(num)\n",
    "    return ones\n",
    "\n",
    "num = ((2,3))\n",
    "print(create_ones_matrix(num))"
   ]
  },
  {
   "cell_type": "code",
   "execution_count": 69,
   "id": "474516a4-2dcd-492f-9429-2bf791246bf6",
   "metadata": {},
   "outputs": [
    {
     "name": "stdout",
     "output_type": "stream",
     "text": [
      "[1 3 5 7 9]\n"
     ]
    }
   ],
   "source": [
    "# Q13\n",
    "def create_range_array(arr):\n",
    "    array = np.arange(*arr)\n",
    "    return array\n",
    "\n",
    "arr = (1,10,2)\n",
    "print(create_range_array(arr))"
   ]
  },
  {
   "cell_type": "code",
   "execution_count": 70,
   "id": "45a1c763-c97c-453a-b758-cc1865666550",
   "metadata": {},
   "outputs": [
    {
     "name": "stdout",
     "output_type": "stream",
     "text": [
      "[ 1.    3.25  5.5   7.75 10.  ]\n"
     ]
    }
   ],
   "source": [
    "# Q14\n",
    "\n",
    "def generate_linear_space(num):\n",
    "    line = np.linspace(*num)\n",
    "    return line\n",
    "\n",
    "num = (1,10,5)\n",
    "print(generate_linear_space(num))"
   ]
  },
  {
   "cell_type": "code",
   "execution_count": 71,
   "id": "915cb29a-d64b-4228-9234-7b0bab461977",
   "metadata": {},
   "outputs": [
    {
     "name": "stdout",
     "output_type": "stream",
     "text": [
      "[[1. 0. 0.]\n",
      " [0. 1. 0.]\n",
      " [0. 0. 1.]]\n"
     ]
    }
   ],
   "source": [
    "# Q15\n",
    "\n",
    "def create_identity_array(num):\n",
    "    eye = np.eye(*num)\n",
    "    return eye\n",
    "\n",
    "num = (3,3)\n",
    "print(create_identity_array(num))"
   ]
  },
  {
   "cell_type": "code",
   "execution_count": 72,
   "id": "cb8cb386-018c-4da6-b28d-8d527e0f5d68",
   "metadata": {},
   "outputs": [
    {
     "name": "stdout",
     "output_type": "stream",
     "text": [
      "[1 2 3 4 5 6]\n"
     ]
    }
   ],
   "source": [
    "# Q16\n",
    " \n",
    "def python_to_array(list1):\n",
    "    arr = np.array(list1)\n",
    "    return arr\n",
    "\n",
    "list1 = [1,2,3,4,5,6]\n",
    "print(python_to_array(list1))"
   ]
  },
  {
   "cell_type": "code",
   "execution_count": 73,
   "id": "b026730a-b35e-4442-b6a6-c0b6ed97e4f2",
   "metadata": {},
   "outputs": [
    {
     "name": "stdout",
     "output_type": "stream",
     "text": [
      "[1 2]\n"
     ]
    }
   ],
   "source": [
    "#Q17\n",
    "def new_view(arr):\n",
    "    view = arr.view()\n",
    "    return view\n",
    "\n",
    "arr = np.array([1,2])\n",
    "print(new_view(arr))"
   ]
  },
  {
   "cell_type": "code",
   "execution_count": 74,
   "id": "f5b86ca0-ffb7-4f06-bafc-c8c28444d491",
   "metadata": {},
   "outputs": [
    {
     "name": "stdout",
     "output_type": "stream",
     "text": [
      "[[1 2 5 6]\n",
      " [3 4 7 8]]\n"
     ]
    }
   ],
   "source": [
    "# Q18\n",
    "\n",
    "def concatenate_two_array(num):\n",
    "    concatenate = np.concatenate(*num)\n",
    "    return concatenate\n",
    "\n",
    "a = np.array([[1,2],[3,4]])\n",
    "b = np.array([[5,6],[7,8]])\n",
    "\n",
    "num = ((a,b),1)\n",
    "\n",
    "print(concatenate_two_array(num))"
   ]
  },
  {
   "cell_type": "code",
   "execution_count": 75,
   "id": "a1f0404f-deb1-44e3-9475-6e29a9dbe7b0",
   "metadata": {},
   "outputs": [
    {
     "name": "stdout",
     "output_type": "stream",
     "text": [
      "[[1 2 3]\n",
      " [4 5 7]]\n"
     ]
    }
   ],
   "source": [
    "# Q 19\n",
    "\n",
    "def diff_array(num):\n",
    "    diff = np.concatenate(*num)\n",
    "    return diff\n",
    "\n",
    "a = np.array([[1,2],[4,5]])\n",
    "b = np.array([[3],[7]])\n",
    "num = ((a,b),1)\n",
    "print(diff_array(num))"
   ]
  },
  {
   "cell_type": "code",
   "execution_count": 76,
   "id": "9435f8a5-e77e-4a23-9d71-134a010455ac",
   "metadata": {},
   "outputs": [
    {
     "name": "stdout",
     "output_type": "stream",
     "text": [
      "[[ 0  1  2  3]\n",
      " [ 4  5  6  7]\n",
      " [ 8  9 10 11]\n",
      " [ 0  1  2  3]\n",
      " [ 4  5  6  7]\n",
      " [ 8  9 10 11]\n",
      " [12 13 14 15]\n",
      " [16 17 18 19]\n",
      " [20 21 22 23]]\n"
     ]
    }
   ],
   "source": [
    "# Q 20\n",
    "\n",
    "def vertical_stack(num):\n",
    "    stack = np.vstack(num)\n",
    "    return stack\n",
    "\n",
    "a = np.arange(12).reshape(3,4)\n",
    "b = np.arange(24).reshape(6,4)\n",
    "\n",
    "num = ((a,b))\n",
    "print(vertical_stack(num))"
   ]
  },
  {
   "cell_type": "markdown",
   "id": "acc75639-6e0a-40ee-9300-ba073e16f1ac",
   "metadata": {},
   "source": [
    "# Array Generation"
   ]
  },
  {
   "cell_type": "code",
   "execution_count": 77,
   "id": "7cbad23e-f2f4-4008-8dbf-ad1b13e5ae10",
   "metadata": {},
   "outputs": [
    {
     "name": "stdout",
     "output_type": "stream",
     "text": [
      "[ 1  2  3  4  5  6  7  8  9 10]\n"
     ]
    }
   ],
   "source": [
    "# Q 21\n",
    "\n",
    "def generate_array(num):\n",
    "    arr = np.arange(*num)\n",
    "    return arr\n",
    "\n",
    "num = (1,11,1)\n",
    "print(generate_array(num))"
   ]
  },
  {
   "cell_type": "code",
   "execution_count": 78,
   "id": "0d61ef06-0d72-498f-a3bd-3132f3f17c1d",
   "metadata": {},
   "outputs": [
    {
     "name": "stdout",
     "output_type": "stream",
     "text": [
      "[0.         0.11111111 0.22222222 0.33333333 0.44444444 0.55555556\n",
      " 0.66666667 0.77777778 0.88888889 1.        ]\n"
     ]
    }
   ],
   "source": [
    "# q22\n",
    "\n",
    "def generate_equal_space(num):\n",
    "    equal = np.linspace(*num)\n",
    "    return equal\n",
    "\n",
    "num = (0,1,10)\n",
    "print(generate_equal_space(num))"
   ]
  },
  {
   "cell_type": "code",
   "execution_count": 79,
   "id": "8bbbb42d-5ab8-414a-a605-b2f3084f8fc4",
   "metadata": {},
   "outputs": [
    {
     "name": "stdout",
     "output_type": "stream",
     "text": [
      "[   1.            5.62341325   31.6227766   177.827941   1000.        ]\n"
     ]
    }
   ],
   "source": [
    "# Q 23\n",
    "\n",
    "def generate_logspace(num):\n",
    "    logspace = np.logspace(*num)\n",
    "    return logspace\n",
    "\n",
    "num = (0 , 3,5)\n",
    "print(generate_logspace(num))"
   ]
  },
  {
   "cell_type": "code",
   "execution_count": 80,
   "id": "212ff09f-8a5d-4705-81cb-e9406794db5b",
   "metadata": {},
   "outputs": [
    {
     "name": "stdout",
     "output_type": "stream",
     "text": [
      "3\n"
     ]
    }
   ],
   "source": [
    "# Q26\n",
    "\n",
    "arr = np.array([1,2,3,4,5])\n",
    "print(arr[2])\n",
    "\n"
   ]
  },
  {
   "cell_type": "code",
   "execution_count": 81,
   "id": "656c2d88-409f-4965-b376-8bd2bc61fe9f",
   "metadata": {},
   "outputs": [
    {
     "name": "stdout",
     "output_type": "stream",
     "text": [
      "[[ 0  1  2  3]\n",
      " [ 4  5  6  7]\n",
      " [ 8  9 10 11]]\n",
      "6\n"
     ]
    }
   ],
   "source": [
    "# Q27\n",
    "\n",
    "arr = np.arange(12).reshape(3,4)\n",
    "print(arr)\n",
    "print(arr[1,2])"
   ]
  },
  {
   "cell_type": "code",
   "execution_count": 82,
   "id": "a9ee0325-9748-4f87-9ced-30018519aa8e",
   "metadata": {},
   "outputs": [
    {
     "name": "stdout",
     "output_type": "stream",
     "text": [
      "[ 6  7  8  9 10 11]\n"
     ]
    }
   ],
   "source": [
    "# Q28\n",
    "\n",
    "a1 = np.arange(12).reshape(3,4)\n",
    "print(a1[a1>5])"
   ]
  },
  {
   "cell_type": "code",
   "execution_count": 83,
   "id": "c2afbf98-dcf1-425b-968f-2a50f516640e",
   "metadata": {},
   "outputs": [
    {
     "name": "stdout",
     "output_type": "stream",
     "text": [
      "[3 4 5]\n"
     ]
    }
   ],
   "source": [
    "# Q29\n",
    "\n",
    "a2 = np.array([1,2,3,4,5,6,7])\n",
    "print(a2[2:5])"
   ]
  },
  {
   "cell_type": "code",
   "execution_count": 84,
   "id": "3945a256-12dd-4710-8307-0a44f8658f6e",
   "metadata": {},
   "outputs": [
    {
     "data": {
      "text/plain": [
       "array([[2, 3],\n",
       "       [5, 6]])"
      ]
     },
     "execution_count": 84,
     "metadata": {},
     "output_type": "execute_result"
    }
   ],
   "source": [
    "# 30\n",
    "\n",
    "a2 = np.array([[1,2,3],\n",
    "              [4,5,6],\n",
    "               [7,8,9]])\n",
    "\n",
    "a2[0:2,1:3]\n",
    "\n",
    "\n"
   ]
  },
  {
   "cell_type": "code",
   "execution_count": 85,
   "id": "31704007-6fef-4ee6-a450-517922dff229",
   "metadata": {},
   "outputs": [
    {
     "data": {
      "text/plain": [
       "array([[2, 3],\n",
       "       [5, 6]])"
      ]
     },
     "execution_count": 85,
     "metadata": {},
     "output_type": "execute_result"
    }
   ],
   "source": [
    "# Q 31\n",
    "a2 = np.array([[1,2,3],\n",
    "              [4,5,6],\n",
    "               [7,8,9]])\n",
    "\n",
    "a2[0:2,1:3]\n",
    "\n"
   ]
  },
  {
   "cell_type": "code",
   "execution_count": 86,
   "id": "ab409d57-de8f-4169-b001-a32b9fcda767",
   "metadata": {},
   "outputs": [
    {
     "name": "stdout",
     "output_type": "stream",
     "text": [
      "[65 45 65]\n"
     ]
    }
   ],
   "source": [
    "# Q 32\n",
    "\n",
    "a2 = np.array([12,65,45,23,65,14,7])\n",
    "threshold = sum(a2)/len(a2)\n",
    "\n",
    "element_greater_than_threshold = a2[a2>threshold]\n",
    "print(element_greater_than_threshold)"
   ]
  },
  {
   "cell_type": "code",
   "execution_count": 87,
   "id": "2f5fceff-e14c-4c26-bd6d-7ee2fb10bc84",
   "metadata": {},
   "outputs": [
    {
     "data": {
      "text/plain": [
       "array([[ 6,  7,  8],\n",
       "       [24, 25, 26]])"
      ]
     },
     "execution_count": 87,
     "metadata": {},
     "output_type": "execute_result"
    }
   ],
   "source": [
    "# Q 33\n",
    "\n",
    "a3 = np.arange(27).reshape(3,3,3)\n",
    "\n",
    "a3[[0,2],2]"
   ]
  },
  {
   "cell_type": "code",
   "execution_count": 88,
   "id": "f0095209-a409-4bef-9627-2e0e9c467aa6",
   "metadata": {},
   "outputs": [
    {
     "name": "stdout",
     "output_type": "stream",
     "text": [
      "[6 8]\n"
     ]
    }
   ],
   "source": [
    "# Q 34\n",
    "\n",
    "a1 = np.array([1,2,3,4,6,7,8,9])\n",
    "print(a1[(a1%2==0) & (a1>5)])"
   ]
  },
  {
   "cell_type": "code",
   "execution_count": 89,
   "id": "d80e1094-9dd5-4d90-9222-8096b9b354b0",
   "metadata": {},
   "outputs": [
    {
     "name": "stdout",
     "output_type": "stream",
     "text": [
      "8\n"
     ]
    }
   ],
   "source": [
    "# Q35\n",
    "\n",
    "a1 = np.array([[1,2,3,4,6,7,8,9]])\n",
    "print(a1[0,6])\n"
   ]
  },
  {
   "cell_type": "code",
   "execution_count": 90,
   "id": "ea460b8b-12ce-43b9-9e4e-58bb0164fc64",
   "metadata": {},
   "outputs": [
    {
     "name": "stdout",
     "output_type": "stream",
     "text": [
      "[[ 6  7  8]\n",
      " [ 9 10 11]]\n"
     ]
    }
   ],
   "source": [
    "# Q 36\n",
    "\n",
    "a = np.array([[1,2,3],\n",
    "              [4,5,6]])\n",
    "\n",
    "result = a+ 5    # this is called broadcasting\n",
    "print(result)"
   ]
  },
  {
   "cell_type": "markdown",
   "id": "33ceee8a-9bc3-45f9-9aa4-9bfccd1365b3",
   "metadata": {},
   "source": [
    "# Aggregations and Statistics "
   ]
  },
  {
   "cell_type": "code",
   "execution_count": 91,
   "id": "38b8edf8-a839-4047-86b1-ee960863d39c",
   "metadata": {},
   "outputs": [
    {
     "name": "stdout",
     "output_type": "stream",
     "text": [
      "[4. 5. 6.]\n"
     ]
    }
   ],
   "source": [
    "# Q41\n",
    "a = np.array([[1,2,3],\n",
    "               [4,5,6],\n",
    "               [7,8,9]])\n",
    "mean = np.mean(a,0)\n",
    "print(mean)"
   ]
  },
  {
   "cell_type": "code",
   "execution_count": 92,
   "id": "d493107c-edae-4bbb-afaf-e9cb363a49e7",
   "metadata": {},
   "outputs": [
    {
     "data": {
      "text/plain": [
       "array([3, 6, 9])"
      ]
     },
     "execution_count": 92,
     "metadata": {},
     "output_type": "execute_result"
    }
   ],
   "source": [
    "# Q42\n",
    "a = np.array([[1,2,3],\n",
    "               [4,5,6],\n",
    "               [7,8,9]])\n",
    "\n",
    "maxi = np.max(a , axis=1)\n",
    "maxi"
   ]
  },
  {
   "cell_type": "code",
   "execution_count": 93,
   "id": "d9e80996-6f20-439c-a47f-ab3115a44699",
   "metadata": {},
   "outputs": [
    {
     "data": {
      "text/plain": [
       "array([2, 2, 2], dtype=int64)"
      ]
     },
     "execution_count": 93,
     "metadata": {},
     "output_type": "execute_result"
    }
   ],
   "source": [
    "# Q43\n",
    "\n",
    "a = np.array([[1,2,3],\n",
    "               [4,5,6],\n",
    "               [7,8,9]])\n",
    "\n",
    "indmax = np.argmax(a , axis=0)\n",
    "indmax"
   ]
  },
  {
   "cell_type": "markdown",
   "id": "f357d5ff-9ce1-452b-8a84-920902a88c53",
   "metadata": {},
   "source": [
    "# reshape and flattening\n"
   ]
  },
  {
   "cell_type": "code",
   "execution_count": 94,
   "id": "1ae30311-25d0-43be-b028-eb7c2bbf1be5",
   "metadata": {},
   "outputs": [
    {
     "data": {
      "text/plain": [
       "array([[ 0,  1,  2,  3],\n",
       "       [ 4,  5,  6,  7],\n",
       "       [ 8,  9, 10, 11]])"
      ]
     },
     "execution_count": 94,
     "metadata": {},
     "output_type": "execute_result"
    }
   ],
   "source": [
    "# Q46\n",
    "\n",
    "a = np.arange(12).reshape(3,4)\n",
    "a"
   ]
  },
  {
   "cell_type": "code",
   "execution_count": 95,
   "id": "9a8bb098-ef5c-463d-9caf-dd871e406af2",
   "metadata": {},
   "outputs": [
    {
     "name": "stdout",
     "output_type": "stream",
     "text": [
      "0\n",
      "1\n",
      "2\n",
      "3\n",
      "4\n",
      "5\n",
      "6\n",
      "7\n",
      "8\n",
      "9\n",
      "10\n",
      "11\n"
     ]
    }
   ],
   "source": [
    "# Q47\n",
    "\n",
    "for i in np.nditer(a):\n",
    "    print(i)\n"
   ]
  },
  {
   "cell_type": "code",
   "execution_count": 96,
   "id": "24baf909-81e4-4448-9004-024f775543ce",
   "metadata": {},
   "outputs": [
    {
     "data": {
      "text/plain": [
       "array([ 1,  2,  3,  4,  5,  6,  7,  8,  9, 10])"
      ]
     },
     "execution_count": 96,
     "metadata": {},
     "output_type": "execute_result"
    }
   ],
   "source": [
    "# Q 48\n",
    "\n",
    "a = np.array([1,2,3,4,5])\n",
    "b = np.array([6,7,8,9,10])\n",
    "c = np.concatenate((a,b),0)\n",
    "c"
   ]
  },
  {
   "cell_type": "code",
   "execution_count": 97,
   "id": "81bc73af-ee84-4b01-b265-5de766bb4a5d",
   "metadata": {},
   "outputs": [
    {
     "data": {
      "text/plain": [
       "[array([[0, 1],\n",
       "        [4, 5],\n",
       "        [8, 9]]),\n",
       " array([[ 2,  3],\n",
       "        [ 6,  7],\n",
       "        [10, 11]])]"
      ]
     },
     "execution_count": 97,
     "metadata": {},
     "output_type": "execute_result"
    }
   ],
   "source": [
    "# Q 49\n",
    "\n",
    "a1 = np.arange(12).reshape(3,4)\n",
    "np.hsplit(a1,2)"
   ]
  },
  {
   "cell_type": "code",
   "execution_count": 98,
   "id": "3bc167ac-5ac4-4668-bc83-0fc790a56418",
   "metadata": {},
   "outputs": [
    {
     "data": {
      "text/plain": [
       "[2, 1, 2, 4, 5, 6, 7]"
      ]
     },
     "execution_count": 98,
     "metadata": {},
     "output_type": "execute_result"
    }
   ],
   "source": [
    "# Q 50\n",
    "\n",
    "a = [1,2,3,4,5,6,7]\n",
    "remove = a.pop(2)\n",
    "remove\n",
    "\n",
    "insert = a.insert(0,2)\n",
    "insert\n",
    "a"
   ]
  },
  {
   "cell_type": "code",
   "execution_count": 99,
   "id": "cd9a3a59-e3a2-4361-9edb-debe66e8939e",
   "metadata": {},
   "outputs": [
    {
     "name": "stdout",
     "output_type": "stream",
     "text": [
      "[ 6  8 10 12]\n"
     ]
    }
   ],
   "source": [
    "# Q51\n",
    "\n",
    "a1 = np.array([1,2,3,4])\n",
    "a2 = np.array([5,6,7,8])\n",
    "result = a1+a2\n",
    "print(result)"
   ]
  },
  {
   "cell_type": "code",
   "execution_count": 100,
   "id": "4e9bf09c-3751-4820-a0a0-fa132cf8f10c",
   "metadata": {},
   "outputs": [
    {
     "name": "stdout",
     "output_type": "stream",
     "text": [
      "[4 1 1]\n"
     ]
    }
   ],
   "source": [
    "# q52\n",
    "\n",
    "a1 = np.array([5,3,4])\n",
    "a2 = np.array([1,2,3])\n",
    "result = a1 - a2\n",
    "print(result)"
   ]
  },
  {
   "cell_type": "code",
   "execution_count": 101,
   "id": "a65e6014-d5ef-4637-99d5-376ada6ca88a",
   "metadata": {},
   "outputs": [
    {
     "name": "stdout",
     "output_type": "stream",
     "text": [
      "[ 5  6 12]\n"
     ]
    }
   ],
   "source": [
    "# Q 53\n",
    "a1 = np.array([5,3,4])\n",
    "a2 = np.array([1,2,3])\n",
    "\n",
    "result = a1 * a2\n",
    "print(result)"
   ]
  },
  {
   "cell_type": "code",
   "execution_count": 102,
   "id": "2f32d0cb-2219-4f3a-975c-302b0af72edb",
   "metadata": {},
   "outputs": [
    {
     "name": "stdout",
     "output_type": "stream",
     "text": [
      "[5.         1.5        1.33333333]\n"
     ]
    }
   ],
   "source": [
    "# Q54\n",
    "a1 = np.array([5,3,4])\n",
    "a2 = np.array([1,2,3])\n",
    "\n",
    "result = (a1 / a2)\n",
    "print(result)"
   ]
  },
  {
   "cell_type": "code",
   "execution_count": 103,
   "id": "a2e42075-16c4-48a1-9d73-8135b630845e",
   "metadata": {},
   "outputs": [
    {
     "name": "stdout",
     "output_type": "stream",
     "text": [
      "[ 5  9 64]\n"
     ]
    }
   ],
   "source": [
    "# Q 55\n",
    "\n",
    "a1 = np.array([5,3,4])\n",
    "a2 = np.array([1,2,3])\n",
    "\n",
    "result = (a1 ** a2)\n",
    "print(result)"
   ]
  },
  {
   "cell_type": "markdown",
   "id": "46c25bd3-1d9e-4118-a439-53694bafdd1c",
   "metadata": {},
   "source": [
    "# String Operations "
   ]
  },
  {
   "cell_type": "code",
   "execution_count": 104,
   "id": "cc17a6f5-3fe1-4cd8-92d1-f1d47c1a452e",
   "metadata": {},
   "outputs": [
    {
     "name": "stdout",
     "output_type": "stream",
     "text": [
      "[1 0 0 0]\n"
     ]
    }
   ],
   "source": [
    "# Q 56\n",
    "string_array = np.array([\"apple\",\"banana\",\"cat\",\"dog\"])\n",
    "\n",
    "substring  = \"apple\"\n",
    "\n",
    "count = np.char.count(string_array,substring)\n",
    "print(count)"
   ]
  },
  {
   "cell_type": "code",
   "execution_count": 105,
   "id": "944675c1-7563-4ac0-ac24-836a69d5ab33",
   "metadata": {},
   "outputs": [
    {
     "name": "stdout",
     "output_type": "stream",
     "text": [
      "['H', 'W', 'O', 'R', 'L', 'D', 'O', 'D', 'M', 'G']\n"
     ]
    }
   ],
   "source": [
    "# q 57\n",
    "\n",
    "\n",
    "arr = np.array([\"Hello\", \"WORLD\", \"gOoD\", \"MorninG\"])\n",
    "\n",
    "uppercase_chars = [char for word in arr for char in word if char.isupper()]\n",
    "\n",
    "print(uppercase_chars)\n"
   ]
  },
  {
   "cell_type": "code",
   "execution_count": 106,
   "id": "f33af1a2-3c3b-4a4e-b338-26d7b47a6c9b",
   "metadata": {},
   "outputs": [
    {
     "name": "stdout",
     "output_type": "stream",
     "text": [
      "['why' 'hi' 'how']\n"
     ]
    }
   ],
   "source": [
    "# Q 58\n",
    "\n",
    "arr = np.array([\"hello\",\"hi\",\"how\"])\n",
    "\n",
    "replace = np.char.replace(arr,\"hello\",\"why\")\n",
    "print(replace)"
   ]
  },
  {
   "cell_type": "code",
   "execution_count": 107,
   "id": "e3afc6fe-c9c4-4233-a7ac-29a601dd72a4",
   "metadata": {},
   "outputs": [
    {
     "name": "stdout",
     "output_type": "stream",
     "text": [
      "['hellojat' 'hojai' 'whyraj']\n"
     ]
    }
   ],
   "source": [
    "# q 59\n",
    "\n",
    "arr = np.array([\"hello\",\"ho\",\"why\"])\n",
    "arr1 = np.array([\"jat\",\"jai\",\"raj\"])\n",
    "print(np.char.add(arr,arr1))"
   ]
  },
  {
   "cell_type": "code",
   "execution_count": 108,
   "id": "a85bf8fe-2d8c-43f7-8708-069395d9f4eb",
   "metadata": {},
   "outputs": [
    {
     "name": "stdout",
     "output_type": "stream",
     "text": [
      "Length of the longest string: 12\n"
     ]
    }
   ],
   "source": [
    "# q 60\n",
    "\n",
    "\n",
    "arr = np.array([\"Hello\", \"Good Morning\", \"NumPy\", \"AI\"])\n",
    "\n",
    "lengths = np.char.str_len(arr)\n",
    "\n",
    "max_length = np.max(lengths)\n",
    "\n",
    "print(\"Length of the longest string:\", max_length)\n"
   ]
  },
  {
   "cell_type": "code",
   "execution_count": 109,
   "id": "da35c218-db81-4273-8f0b-a91fd9d5efe8",
   "metadata": {},
   "outputs": [
    {
     "name": "stdout",
     "output_type": "stream",
     "text": [
      "Data: [782 927 506 581 512 257 438 805 603 504 513 882 964 852 852 131 670 410\n",
      " 729  87 697 867 769 794  65 663 481 778 962 969 521 255  63 617 176 914\n",
      " 937 252 471  17 758 459 353 732   4 119 961 353 325 849 597 637 116 377\n",
      " 620 235 529 308 266 815 336 995 175 663 864 749 825 550 547  20 690  99\n",
      " 212 570 930 204 536 687 237  45 991 454 755 568 177 784  20  48 258 755\n",
      " 311 724 933 830 336 543 362  31 719 528]\n",
      "Mean: 527.47\n",
      "Median: 545.0\n",
      "Variance: 84047.3891\n",
      "Standard Deviation: 289.9092773610393\n"
     ]
    }
   ],
   "source": [
    "# q 61\n",
    "\n",
    "data = np.random.randint(1, 1001, size=100)\n",
    "\n",
    "mean_val = np.mean(data)\n",
    "median_val = np.median(data)\n",
    "variance_val = np.var(data)\n",
    "std_deviation = np.std(data)\n",
    "\n",
    "print(\"Data:\", data)\n",
    "print(\"Mean:\", mean_val)\n",
    "print(\"Median:\", median_val)\n",
    "print(\"Variance:\", variance_val)\n",
    "print(\"Standard Deviation:\", std_deviation)\n"
   ]
  },
  {
   "cell_type": "code",
   "execution_count": 110,
   "id": "257649fc-53a0-484a-8bd2-b99a641e68a5",
   "metadata": {},
   "outputs": [
    {
     "name": "stdout",
     "output_type": "stream",
     "text": [
      "Data: [88 62 86 92 99 85 21  3 78 78 85 69 25 99 14 67 58 19 49 59 71 52 24 50\n",
      " 69 87 61  7 61 30 80 48 80 75 54 78 98 15 89 80 90 85 77 59 51 77 30 80\n",
      " 74 45]\n",
      "25th Percentile: 49.25\n",
      "75th Percentile: 80.0\n"
     ]
    }
   ],
   "source": [
    "# q62\n",
    "\n",
    "data = np.random.randint(1, 101, size=50)\n",
    "\n",
    "percentile_25 = np.percentile(data, 25)\n",
    "percentile_75 = np.percentile(data, 75)\n",
    "\n",
    "print(\"Data:\", data)\n",
    "print(\"25th Percentile:\", percentile_25)\n",
    "print(\"75th Percentile:\", percentile_75)\n"
   ]
  },
  {
   "cell_type": "code",
   "execution_count": 111,
   "id": "12782f99-8036-459f-bdef-b19f27899865",
   "metadata": {},
   "outputs": [
    {
     "name": "stdout",
     "output_type": "stream",
     "text": [
      "Correlation coefficient matrix:\n",
      " [[1. 1.]\n",
      " [1. 1.]]\n",
      "Correlation coefficient: 1.0\n"
     ]
    }
   ],
   "source": [
    "# q 63\n",
    "\n",
    "a = np.array([10, 20, 30, 40, 50])\n",
    "b = np.array([15, 25, 35, 45, 55])\n",
    "\n",
    "corr_matrix = np.corrcoef(a, b)\n",
    "\n",
    "corr_coef = corr_matrix[0, 1]\n",
    "\n",
    "print(\"Correlation coefficient matrix:\\n\", corr_matrix)\n",
    "print(\"Correlation coefficient:\", corr_coef)\n"
   ]
  },
  {
   "cell_type": "code",
   "execution_count": 112,
   "id": "0d3e3c8d-a819-42d7-9e0c-6e1b94f5d163",
   "metadata": {},
   "outputs": [
    {
     "name": "stdout",
     "output_type": "stream",
     "text": [
      "Matrix A:\n",
      " [[1 2]\n",
      " [3 4]]\n",
      "Matrix B:\n",
      " [[5 6]\n",
      " [7 8]]\n",
      "Result of A dot B:\n",
      " [[19 22]\n",
      " [43 50]]\n"
     ]
    }
   ],
   "source": [
    "# Q 64\n",
    "\n",
    "A = np.array([[1, 2],\n",
    "              [3, 4]])\n",
    "B = np.array([[5, 6],\n",
    "              [7, 8]])\n",
    "\n",
    "result = np.dot(A, B)\n",
    "\n",
    "print(\"Matrix A:\\n\", A)\n",
    "print(\"Matrix B:\\n\", B)\n",
    "print(\"Result of A dot B:\\n\", result)\n"
   ]
  },
  {
   "cell_type": "code",
   "execution_count": 113,
   "id": "33fc8ce9-784f-4577-8c3a-e7f5b39e9f57",
   "metadata": {},
   "outputs": [
    {
     "name": "stdout",
     "output_type": "stream",
     "text": [
      "Data: [ 38  85  20  62  42  77  40  16  17  79  85  66  97  72  43  26  64  87\n",
      "  10  83  47  49  75  70   3   9  64  40  43  49  91  66  20  65  40  58\n",
      "  89  40  94  34  93  10  61  84   4  65 100  74  63  61]\n",
      "10th Percentile: 15.400000000000002\n",
      "50th Percentile (Median): 61.5\n",
      "90th Percentile: 89.2\n",
      "Q1 (25th Percentile): 40.0\n",
      "Q3 (75th Percentile): 76.5\n"
     ]
    }
   ],
   "source": [
    "# Q 65\n",
    "\n",
    "data = np.random.randint(1, 101, size=50)\n",
    "\n",
    "p10 = np.percentile(data, 10)\n",
    "p50 = np.percentile(data, 50) \n",
    "p90 = np.percentile(data, 90)\n",
    "\n",
    "q1 = np.percentile(data, 25)\n",
    "q3 = np.percentile(data, 75)\n",
    "\n",
    "print(\"Data:\", data)\n",
    "print(\"10th Percentile:\", p10)\n",
    "print(\"50th Percentile (Median):\", p50)\n",
    "print(\"90th Percentile:\", p90)\n",
    "print(\"Q1 (25th Percentile):\", q1)\n",
    "print(\"Q3 (75th Percentile):\", q3)\n"
   ]
  },
  {
   "cell_type": "code",
   "execution_count": 114,
   "id": "63a0e31f-f8fb-403d-b2c1-d1bc6b2201be",
   "metadata": {},
   "outputs": [
    {
     "name": "stdout",
     "output_type": "stream",
     "text": [
      "Indices of 25: [1 4]\n"
     ]
    }
   ],
   "source": [
    "# Q 66\n",
    "arr = np.array([10, 25, 30, 40, 25, 50])\n",
    "\n",
    "indices = np.where(arr == 25)\n",
    "\n",
    "print(\"Indices of 25:\", indices[0])\n"
   ]
  },
  {
   "cell_type": "code",
   "execution_count": 115,
   "id": "052ebe86-263e-4ce3-b148-a24dbdcf4903",
   "metadata": {},
   "outputs": [
    {
     "name": "stdout",
     "output_type": "stream",
     "text": [
      "Original array: [ 49  12  70  56  95  78  62  37  39 100]\n",
      "Sorted array: [ 12  37  39  49  56  62  70  78  95 100]\n"
     ]
    }
   ],
   "source": [
    "# Q67\n",
    "\n",
    "random_array = np.random.randint(1, 101, size=10)\n",
    "sorted_array = np.sort(random_array)\n",
    "\n",
    "print(\"Original array:\", random_array)\n",
    "print(\"Sorted array:\", sorted_array)\n"
   ]
  },
  {
   "cell_type": "code",
   "execution_count": 116,
   "id": "3941912e-1de2-4044-a07a-c9f53afa4361",
   "metadata": {},
   "outputs": [
    {
     "name": "stdout",
     "output_type": "stream",
     "text": [
      "Elements > 20: [25 33 45]\n"
     ]
    }
   ],
   "source": [
    "# Q68\n",
    "\n",
    "arr = np.array([5, 18, 25, 33, 12, 45])\n",
    "\n",
    "filtered = arr[arr > 20]\n",
    "print(\"Elements > 20:\", filtered)\n"
   ]
  },
  {
   "cell_type": "code",
   "execution_count": 117,
   "id": "b379a5fe-eef9-4930-8168-bdbab4d6b0f8",
   "metadata": {},
   "outputs": [
    {
     "name": "stdout",
     "output_type": "stream",
     "text": [
      "Elements divisible by 3: [ 9 15 30]\n"
     ]
    }
   ],
   "source": [
    "# Q 69\n",
    "\n",
    "arr = np.array([9, 15, 20, 22, 30, 41])\n",
    "\n",
    "filtered = arr[arr % 3 == 0]\n",
    "print(\"Elements divisible by 3:\", filtered)\n"
   ]
  },
  {
   "cell_type": "code",
   "execution_count": 118,
   "id": "4d71f480-51b2-4117-b96b-e23e976ca8ce",
   "metadata": {},
   "outputs": [
    {
     "name": "stdout",
     "output_type": "stream",
     "text": [
      "Elements between 20 and 40: [21 25 35 40]\n"
     ]
    }
   ],
   "source": [
    "# Q 70\n",
    "\n",
    "arr = np.array([10, 21, 25, 35, 40, 50])\n",
    "\n",
    "filtered = arr[(arr >= 20) & (arr <= 40)]\n",
    "print(\"Elements between 20 and 40:\", filtered)\n"
   ]
  },
  {
   "cell_type": "code",
   "execution_count": 119,
   "id": "1ee83d11-f251-4c97-a7e4-7806de422232",
   "metadata": {},
   "outputs": [
    {
     "name": "stdout",
     "output_type": "stream",
     "text": [
      "Byte order: =\n"
     ]
    }
   ],
   "source": [
    "# Q71\n",
    "\n",
    "arr = np.array([1, 2, 3], dtype=np.int32)\n",
    "\n",
    "print(\"Byte order:\", arr.dtype.byteorder)\n"
   ]
  },
  {
   "cell_type": "code",
   "execution_count": 120,
   "id": "7b2af210-a867-4d39-9eb0-5bc2f02d2c4e",
   "metadata": {},
   "outputs": [
    {
     "name": "stdout",
     "output_type": "stream",
     "text": [
      "Original array: [1 2 3]\n",
      "After byte swap: [16777216 33554432 50331648]\n"
     ]
    }
   ],
   "source": [
    "# Q 72\n",
    "\n",
    "print(\"Original array:\", arr)\n",
    "\n",
    "arr.byteswap(inplace=True)\n",
    "\n",
    "print(\"After byte swap:\", arr)\n"
   ]
  },
  {
   "cell_type": "code",
   "execution_count": null,
   "id": "8ecc364f-8147-4d1e-a48f-37d141cfdbd5",
   "metadata": {},
   "outputs": [],
   "source": []
  },
  {
   "cell_type": "code",
   "execution_count": null,
   "id": "ed272109-3e39-43de-985d-d68a52e040db",
   "metadata": {},
   "outputs": [],
   "source": []
  }
 ],
 "metadata": {
  "kernelspec": {
   "display_name": "Python 3 (ipykernel)",
   "language": "python",
   "name": "python3"
  },
  "language_info": {
   "codemirror_mode": {
    "name": "ipython",
    "version": 3
   },
   "file_extension": ".py",
   "mimetype": "text/x-python",
   "name": "python",
   "nbconvert_exporter": "python",
   "pygments_lexer": "ipython3",
   "version": "3.12.7"
  }
 },
 "nbformat": 4,
 "nbformat_minor": 5
}
